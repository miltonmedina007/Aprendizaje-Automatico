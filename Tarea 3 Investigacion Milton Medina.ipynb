{
 "cells": [
  {
   "cell_type": "markdown",
   "id": "c02bdee9",
   "metadata": {},
   "source": [
    "# INVESTIGACION SOBRE METRICAS PARA EVALUAR EL APRENDIZAJE"
   ]
  },
  {
   "cell_type": "markdown",
   "id": "6ffb5435",
   "metadata": {},
   "source": [
    "El aprendizaje debe basarse sobre datos reales fácilmente comparables para establecer una medida de concordancia por eso en muchos caso las metricas recurren a metodos estadisticos. \n",
    "Una de estas herramientas es la Matriz de Confusion"
   ]
  },
  {
   "cell_type": "code",
   "execution_count": 2,
   "id": "792e68fa",
   "metadata": {},
   "outputs": [],
   "source": [
    "import numpy as np\n"
   ]
  },
  {
   "cell_type": "code",
   "execution_count": 6,
   "id": "146feb68",
   "metadata": {},
   "outputs": [
    {
     "name": "stdout",
     "output_type": "stream",
     "text": [
      "[[25 10]\n",
      " [15 20]]\n"
     ]
    }
   ],
   "source": [
    "MatrixConfusion = np.array([(25,10),(15,20)])\n",
    "print(MatrixConfusion)"
   ]
  },
  {
   "cell_type": "markdown",
   "id": "985d9f8f",
   "metadata": {},
   "source": [
    "La matriz de confusion se desprende de un analisis de Kappa donde vamos a tener dos observadores, uno son los datos reales los cuales de antemano conocemos y los otros son los que precide el modelo creado. \n",
    "\n",
    "Dado que tenemos la $\n",
    "\\left(\n",
    "\\begin{array}{ll}\n",
    "VP & FP \\\\FN   & VN\n",
    "\\end{array}\n",
    "\\right)\n",
    "$ , podemos definir ciertos ratios como la sensibilidad, la exactitud, la precision y la espeficidad.\n",
    "\n",
    "\n",
    "La sensibilidad es $\\frac{VP}{VP+FN}$ y se refiere a la tasa de los verdaderos positivos es decir cuantos realmente fueron acertados. \n",
    "\n",
    "La precision se refiere a  $\\frac{VP}{VP+FP}$ es el porcentaje de los casos positivos detectados. \n",
    "\n",
    "La Exactitud se refiere a la cantidad de predicciones positivas que fueron correctas  $\\frac{VP+VN}{VP+FP+FN+VN}$\n",
    "\n",
    "La Especifidad es la tasa de verdaderos negativos  $\\frac{VN}{VN+FP}$."
   ]
  },
  {
   "cell_type": "code",
   "execution_count": 25,
   "id": "32afcb75",
   "metadata": {},
   "outputs": [
    {
     "data": {
      "text/plain": [
       "('La exactitud es de un  64.29%',\n",
       " 'La precision es de un  62.5%',\n",
       " 'La sensibilidad es de un  71.43%',\n",
       " 'La espeficidad es de un  57.14%')"
      ]
     },
     "execution_count": 25,
     "metadata": {},
     "output_type": "execute_result"
    }
   ],
   "source": [
    "def kappa(M):\n",
    "\n",
    "    VP=M[0][0]\n",
    "    FP=M[1][0]\n",
    "    VN=M[1][1]\n",
    "    FN=M[0][1]\n",
    "    \n",
    "    Exactitud= round((VP+VN)/(VP+FP+FN+VN)*100,2)\n",
    "    Precision=  round(VP/(VP+FP)*100,2)\n",
    "    Sensibilidad =  round(VP/(VP+FN)*100,2)\n",
    "    Especifidad = round(VN/(VN+FP)*100,2)\n",
    "\n",
    "    return \"La exactitud es de un  \"+ str(Exactitud)+\"%\" , \"La precision es de un  \"+ str(Precision)+\"%\" ,\"La sensibilidad es de un  \"+ str(Sensibilidad)+\"%\",\"La espeficidad es de un  \"+ str(Especifidad)+\"%\"\n",
    "\n",
    "kappa(MatrixConfusion)"
   ]
  },
  {
   "cell_type": "markdown",
   "id": "79aa5ac4",
   "metadata": {},
   "source": [
    "Mil disculpas profe Felipe no pude completar la tarea porque he tenidos dias muy largos en la oficina, estoy haciendo todo lo posible por ponerme al dia y tambien presentar un buen trabajo final, saque el tiempo para la investigacion y tambien para montar la base de datos con lo que voy a trabajar. \n",
    "\n",
    "Mi proyecto va a ser una regresion para predecir los impactos que tiene la economia de USA y nacional sobre un fondo de inversion y con esto predecir su rendimiento. \n",
    "Espero eso no sea muy trivial. \n",
    "\n",
    "Saludos "
   ]
  }
 ],
 "metadata": {
  "kernelspec": {
   "display_name": "Python 3",
   "language": "python",
   "name": "python3"
  },
  "language_info": {
   "codemirror_mode": {
    "name": "ipython",
    "version": 3
   },
   "file_extension": ".py",
   "mimetype": "text/x-python",
   "name": "python",
   "nbconvert_exporter": "python",
   "pygments_lexer": "ipython3",
   "version": "3.8.8"
  }
 },
 "nbformat": 4,
 "nbformat_minor": 5
}
